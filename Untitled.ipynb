{
 "cells": [
  {
   "cell_type": "code",
   "execution_count": null,
   "id": "7ce3b579-bf79-48a5-a0b4-d53edc9f27ae",
   "metadata": {},
   "outputs": [
    {
     "name": "stdout",
     "output_type": "stream",
     "text": [
      " * Serving Flask app '__main__'\n",
      " * Debug mode: off\n"
     ]
    },
    {
     "name": "stderr",
     "output_type": "stream",
     "text": [
      "WARNING: This is a development server. Do not use it in a production deployment. Use a production WSGI server instead.\n",
      " * Running on all addresses (0.0.0.0)\n",
      " * Running on http://127.0.0.1:5000\n",
      " * Running on http://172.17.0.2:5000\n",
      "Press CTRL+C to quit\n"
     ]
    }
   ],
   "source": [
    "from flask import Flask\n",
    "\n",
    "app = Flask(__name__)\n",
    "\n",
    "@app.route('/')\n",
    "def home():\n",
    "    return \"Hello World\"\n",
    "\n",
    "if __name__ == '__main__':\n",
    "    app.run(host='0.0.0.0', port=5000)\n"
   ]
  },
  {
   "cell_type": "code",
   "execution_count": null,
   "id": "87d29a8a-3122-42ad-879f-e5bf3115be66",
   "metadata": {},
   "outputs": [],
   "source": [
    "import threading\n",
    "import time\n",
    "import requests\n",
    "from flask import Flask, jsonify\n",
    "\n",
    "class Node:\n",
    "    def __init__(self, name, port, peers):\n",
    "        \"\"\"\n",
    "        name: 节点名字\n",
    "        port: 本节点监听端口\n",
    "        peers: 列表，其他节点的 URL\n",
    "        \"\"\"\n",
    "        self.name = name\n",
    "        self.port = port\n",
    "        self.peers = peers\n",
    "        self.app = Flask(self.name)\n",
    "\n",
    "        # 注册一个简单健康检查接口\n",
    "        @self.app.route('/health', methods=['GET'])\n",
    "        def health_check():\n",
    "            return jsonify({\"status\": \"ok\", \"node\": self.name})\n",
    "\n",
    "    def start_server(self):\n",
    "        \"\"\"启动 Flask 服务\"\"\"\n",
    "        threading.Thread(target=self.app.run, kwargs={'host': '0.0.0.0', 'port': self.port}, daemon=True).start()\n",
    "        print(f\"{self.name} started at port {self.port}\")\n",
    "\n",
    "    def check_peers(self):\n",
    "        \"\"\"不断检查其他节点\"\"\"\n",
    "        while True:\n",
    "            for peer_url in self.peers:\n",
    "                try:\n",
    "                    response = requests.get(peer_url + '/health', timeout=3)\n",
    "                    if response.status_code == 200:\n",
    "                        data = response.json()\n",
    "                        print(f\"[{self.name}] 成功连接 {peer_url}: {data}\")\n",
    "                    else:\n",
    "                        print(f\"[{self.name}] 连接 {peer_url} 返回异常状态码: {response.status_code}\")\n",
    "                except Exception as e:\n",
    "                    print(f\"[{self.name}] 连接 {peer_url} 失败: {str(e)}\")\n",
    "            time.sleep(5)  # 每隔5秒检测一次\n",
    "\n",
    "def main():\n",
    "    # 创建三个 Node，分别监听不同端口\n",
    "    node1 = Node(\"Node1\", 5001, [\"http://127.0.0.1:5002\", \"http://127.0.0.1:5003\"])\n",
    "    node2 = Node(\"Node2\", 5002, [\"http://127.0.0.1:5001\", \"http://127.0.0.1:5003\"])\n",
    "    node3 = Node(\"Node3\", 5003, [\"http://127.0.0.1:5001\", \"http://127.0.0.1:5002\"])\n",
    "\n",
    "    # 启动服务器\n",
    "    node1.start_server()\n",
    "    node2.start_server()\n",
    "    node3.start_server()\n",
    "\n",
    "    # 启动健康检查线程\n",
    "    threading.Thread(target=node1.check_peers, daemon=True).start()\n",
    "    threading.Thread(target=node2.check_peers, daemon=True).start()\n",
    "    threading.Thread(target=node3.check_peers, daemon=True).start()\n",
    "\n",
    "    while True:\n",
    "        time.sleep(1)\n",
    "\n",
    "if __name__ == '__main__':\n",
    "    main()\n"
   ]
  },
  {
   "cell_type": "code",
   "execution_count": null,
   "id": "668a4d99-40d0-44c3-b171-6031c759be24",
   "metadata": {},
   "outputs": [],
   "source": []
  }
 ],
 "metadata": {
  "kernelspec": {
   "display_name": "Python 3 (ipykernel)",
   "language": "python",
   "name": "python3"
  },
  "language_info": {
   "codemirror_mode": {
    "name": "ipython",
    "version": 3
   },
   "file_extension": ".py",
   "mimetype": "text/x-python",
   "name": "python",
   "nbconvert_exporter": "python",
   "pygments_lexer": "ipython3",
   "version": "3.12.3"
  }
 },
 "nbformat": 4,
 "nbformat_minor": 5
}
